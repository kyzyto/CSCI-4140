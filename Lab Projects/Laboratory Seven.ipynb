{
 "cells": [
  {
   "cell_type": "markdown",
   "metadata": {},
   "source": [
    "# Laboratory Seven"
   ]
  },
  {
   "cell_type": "code",
   "execution_count": 2,
   "metadata": {},
   "outputs": [],
   "source": [
    "from qiskit import QuantumCircuit, QuantumRegister, Aer, execute\n",
    "from qiskit.providers.aer.noise import NoiseModel\n",
    "from qiskit.providers.aer.noise.errors import pauli_error, depolarizing_error\n",
    "from qiskit.ignis.mitigation.measurement import (complete_meas_cal, CompleteMeasFitter)\n",
    "import numpy as np\n",
    "import scipy.linalg as la\n",
    "from qiskit.visualization import plot_histogram"
   ]
  },
  {
   "cell_type": "markdown",
   "metadata": {},
   "source": [
    "The noise model that we are going to use is:"
   ]
  },
  {
   "cell_type": "code",
   "execution_count": 3,
   "metadata": {},
   "outputs": [],
   "source": [
    "def get_noise(p):\n",
    "\n",
    "    error_meas = pauli_error([('X',p), ('I', 1 - p)])\n",
    "\n",
    "    noise_model = NoiseModel()\n",
    "    noise_model.add_all_qubit_quantum_error(error_meas, \"measure\") # measurement error is applied to measurements\n",
    "        \n",
    "    return noise_model\n"
   ]
  },
  {
   "cell_type": "markdown",
   "metadata": {},
   "source": [
    "We will start our exploration with 2 qubits. For each possible combination of qubits we will perform a large number of measurements, in this case 10,000, using the noise model. There are 4 possible combinations of qubit values, so this is relatively easy. The code for doing this is:"
   ]
  },
  {
   "cell_type": "code",
   "execution_count": 6,
   "metadata": {},
   "outputs": [
    {
     "name": "stdout",
     "output_type": "stream",
     "text": [
      "00 becomes {'00': 9773, '01': 118, '10': 108, '11': 1}\n",
      "01 becomes {'00': 98, '01': 9820, '10': 1, '11': 81}\n",
      "10 becomes {'00': 119, '10': 9801, '11': 80}\n",
      "11 becomes {'00': 1, '01': 93, '10': 105, '11': 9801}\n"
     ]
    }
   ],
   "source": [
    "noise_model = get_noise(0.01)\n",
    "\n",
    "for state in ['00','01','10','11']:\n",
    "    qc = QuantumCircuit(2,2)\n",
    "    if state[0]=='1':\n",
    "        qc.x(1)\n",
    "    if state[1]=='1':\n",
    "        qc.x(0)  \n",
    "    qc.measure(qc.qregs[0],qc.cregs[0])\n",
    "    print(state+' becomes',\n",
    "          execute(qc, Aer.get_backend('qasm_simulator'),noise_model=noise_model,shots=10000).result().get_counts())"
   ]
  },
  {
   "cell_type": "markdown",
   "metadata": {},
   "source": [
    "Note that we get the correct result over 97% of the time. This is what we would expect with the fairly low error probability. We also notice that 2 qubit errors occur very rarely, if not at all. The vast majority of the errors are 1 qubit errors.\n",
    "\n",
    "Try one more example before we start building our model. If we have something like the Bell state, we have two correct answers. Let’s give that a try:"
   ]
  },
  {
   "cell_type": "code",
   "execution_count": 8,
   "metadata": {},
   "outputs": [
    {
     "name": "stdout",
     "output_type": "stream",
     "text": [
      "{'00': 4924, '01': 102, '10': 93, '11': 4881}\n"
     ]
    }
   ],
   "source": [
    "qc = QuantumCircuit(2,2)\n",
    "qc.h(0)\n",
    "qc.cx(0,1)  \n",
    "qc.measure(qc.qregs[0],qc.cregs[0])\n",
    "print(execute(qc, Aer.get_backend('qasm_simulator'),noise_model=noise_model,shots=10000).result().get_counts())"
   ]
  },
  {
   "cell_type": "markdown",
   "metadata": {},
   "source": [
    "Again, the two correct answers are the ones with the highest probability, but there is still a chance that we could get an incorrect answer.\n",
    "\n",
    "All term we’ve taken the result with the highest number of counts as the correct one. For simple programs that has worked well, but we would like something more formal for more complicated programs.\n",
    "\n",
    "#### Mitigation Algorithm\n",
    "\n",
    "Our first experiment essentially took ideal results and produced a vector of measured results. That is, it mapped from the correct result to the measured result. For each of the 4 possible qubit combinations we got a vector of 4 measurements. We have 16 values, which suggests that we could put our results into a 4x4 matrix.\n",
    "\n",
    "Rearranging our first vector of results to be in |00>, |01>, |10> and |11> order we have the following after we normalize the counts:\n",
    "\n",
    "\n",
    "\n",
    "$$\\begin{pmatrix}0.9773 \\\\0.0118 \\\\0.0108 \\\\0.0001\n",
    "\\end{pmatrix}$$\n",
    "\n",
    "We can do the same thing with the other three sets of results to form a complete matrix. This gives us the following Python code:"
   ]
  },
  {
   "cell_type": "code",
   "execution_count": 17,
   "metadata": {},
   "outputs": [
    {
     "name": "stdout",
     "output_type": "stream",
     "text": [
      "If we take the correct result and multiply it by this matrix, we will get something close to the last experiment in the previous section. The result that we get from this code is: \n",
      "\n",
      "C_noisy =\n",
      " [[4887. ]\n",
      " [  99.5]\n",
      " [ 106.5]\n",
      " [4901. ]]\n",
      "\n",
      "This is pretty close to the result that we got before. But what we really want is the opposite, we want to go from measured results to the correct results. Now that we have the matrix M, we only need to invert this matrix to get what we want. The Python code for doing this is:\n",
      "\n"
     ]
    }
   ],
   "source": [
    "M = [[0.9773,0.0098,0.0119,0.0001],\n",
    "    [0.0118,0.9820,0.0000,0.0081],\n",
    "    [0.0108,0.0001,0.9801,0.0105],\n",
    "    [0.0001,0.0081,0.0080,0.9801]]\n",
    "\n",
    "Cideal = [[5000],\n",
    "          [0],\n",
    "          [0],\n",
    "          [5000]]\n",
    "\n",
    "Cnoisy = np.dot(M, Cideal)\n",
    "\n",
    "print('If we take the correct result and multiply it by this matrix, we will get something close to the last experiment in the previous section. The result that we get from this code is: \\n')\n",
    "\n",
    "print('C_noisy =\\n',Cnoisy)\n",
    "\n",
    "print('\\nThis is pretty close to the result that we got before. But what we really want is the opposite, we want to go from measured results to the correct results. Now that we have the matrix M, we only need to invert this matrix to get what we want. The Python code for doing this is:\\n')"
   ]
  },
  {
   "cell_type": "code",
   "execution_count": 19,
   "metadata": {},
   "outputs": [
    {
     "name": "stdout",
     "output_type": "stream",
     "text": [
      "[[ 1.02348791e+00 -1.02137016e-02 -1.24277228e-02  1.13124458e-04]\n",
      " [-1.22992672e-02  1.01852210e+00  2.18049416e-04 -8.41861912e-03]\n",
      " [-1.12778052e-02  9.88036351e-05  1.02053022e+00 -1.09328026e-02]\n",
      " [ 8.92742732e-05 -8.41730238e-03 -8.33054299e-03  1.02046285e+00]]\n",
      "\n",
      "\n",
      "When we apply this matrix, we get the following result:\n"
     ]
    }
   ],
   "source": [
    "Minv = la.inv(M)\n",
    "\n",
    "print(Minv)\n",
    "\n",
    "print('')\n",
    "\n",
    "print('\\nWhen we apply this matrix, we get the following result:')"
   ]
  },
  {
   "cell_type": "code",
   "execution_count": 11,
   "metadata": {},
   "outputs": [
    {
     "name": "stdout",
     "output_type": "stream",
     "text": [
      "C_mitigated =\n",
      " [ 5.01336468e+03  4.44686141e+00 -8.78787531e+00  4.99697270e+03]\n"
     ]
    }
   ],
   "source": [
    "Cmeasured = [4900, 104, 98, 4898]\n",
    "\n",
    "Cmitigated = np.dot(Minv, Cmeasured)\n",
    "print('C_mitigated =\\n',Cmitigated)"
   ]
  },
  {
   "cell_type": "markdown",
   "metadata": {},
   "source": [
    "As you can see this is much closer than the measured result. There are two negative entries, which shouldn’t be possible, but they are so small they can be ignored.\n",
    "\n",
    "#### Error Mitigation in Qiskit\n",
    "\n",
    "This approach is so useful that Qiskit has a set of procedures that automates it. This way we don’t need to construct the matrices ourselves and Qiskit provides a better way of inverting the matrices. To start with we use the complete_meas_cal procedure to construct the circuits that we need to collect the data required for constructing the matrix. This is done in the following way:"
   ]
  },
  {
   "cell_type": "code",
   "execution_count": 20,
   "metadata": {},
   "outputs": [
    {
     "name": "stdout",
     "output_type": "stream",
     "text": [
      "Circuit mcalcal_00\n",
      "        ░ ┌─┐   \n",
      "q27_0: ─░─┤M├───\n",
      "        ░ └╥┘┌─┐\n",
      "q27_1: ─░──╫─┤M├\n",
      "        ░  ║ └╥┘\n",
      " c0: 2/════╩══╩═\n",
      "           0  1 \n",
      "\n",
      "Circuit mcalcal_01\n",
      "       ┌───┐ ░ ┌─┐   \n",
      "q27_0: ┤ X ├─░─┤M├───\n",
      "       └───┘ ░ └╥┘┌─┐\n",
      "q27_1: ──────░──╫─┤M├\n",
      "             ░  ║ └╥┘\n",
      " c0: 2/═════════╩══╩═\n",
      "                0  1 \n",
      "\n",
      "Circuit mcalcal_10\n",
      "             ░ ┌─┐   \n",
      "q27_0: ──────░─┤M├───\n",
      "       ┌───┐ ░ └╥┘┌─┐\n",
      "q27_1: ┤ X ├─░──╫─┤M├\n",
      "       └───┘ ░  ║ └╥┘\n",
      " c0: 2/═════════╩══╩═\n",
      "                0  1 \n",
      "\n",
      "Circuit mcalcal_11\n",
      "       ┌───┐ ░ ┌─┐   \n",
      "q27_0: ┤ X ├─░─┤M├───\n",
      "       ├───┤ ░ └╥┘┌─┐\n",
      "q27_1: ┤ X ├─░──╫─┤M├\n",
      "       └───┘ ░  ║ └╥┘\n",
      " c0: 2/═════════╩══╩═\n",
      "                0  1 \n",
      "\n"
     ]
    }
   ],
   "source": [
    "qr = QuantumRegister(2)\n",
    "meas_calibs, state_labels = complete_meas_cal(qr=qr, circlabel='mcal')\n",
    "\n",
    "for circuit in meas_calibs:\n",
    "    print('Circuit',circuit.name)\n",
    "    print(circuit)\n",
    "    print()"
   ]
  },
  {
   "cell_type": "code",
   "execution_count": 21,
   "metadata": {},
   "outputs": [
    {
     "name": "stdout",
     "output_type": "stream",
     "text": [
      "[[0.805 0.081 0.097 0.012]\n",
      " [0.091 0.836 0.004 0.1  ]\n",
      " [0.092 0.009 0.804 0.086]\n",
      " [0.012 0.074 0.095 0.802]]\n"
     ]
    }
   ],
   "source": [
    "noise_model = get_noise(0.1)\n",
    "\n",
    "backend = Aer.get_backend('qasm_simulator')\n",
    "job = execute(meas_calibs, backend=backend, shots=1000, noise_model=noise_model)\n",
    "cal_results = job.result()\n",
    "\n",
    "meas_fitter = CompleteMeasFitter(cal_results, state_labels, circlabel='mcal')\n",
    "print(meas_fitter.cal_matrix)"
   ]
  },
  {
   "cell_type": "code",
   "execution_count": 22,
   "metadata": {},
   "outputs": [
    {
     "name": "stdout",
     "output_type": "stream",
     "text": [
      "{'00': 4100, '01': 865, '10': 924, '11': 4111}\n"
     ]
    }
   ],
   "source": [
    "qc = QuantumCircuit(2,2)\n",
    "qc.h(0)\n",
    "qc.cx(0,1)  \n",
    "qc.measure(qc.qregs[0],qc.cregs[0])\n",
    "\n",
    "results = execute(qc, backend=backend, shots=10000, noise_model=noise_model).result()\n",
    "\n",
    "noisy_counts = results.get_counts()\n",
    "print(noisy_counts)"
   ]
  },
  {
   "cell_type": "code",
   "execution_count": 23,
   "metadata": {},
   "outputs": [
    {
     "data": {
      "image/png": "[encoded data removed]",
      "text/plain": [
       "<Figure size 504x360 with 1 Axes>"
      ]
     },
     "execution_count": 23,
     "metadata": {},
     "output_type": "execute_result"
    }
   ],
   "source": [
    "# Get the filter object\n",
    "meas_filter = meas_fitter.filter\n",
    "\n",
    "# Results with mitigation\n",
    "mitigated_results = meas_filter.apply(results)\n",
    "mitigated_counts = mitigated_results.get_counts(0)\n",
    "\n",
    "plot_histogram([noisy_counts, mitigated_counts], legend=['noisy', 'mitigated'])"
   ]
  },
  {
   "cell_type": "markdown",
   "metadata": {},
   "source": [
    "# Laboratory Seven"
   ]
  },
  {
   "cell_type": "markdown",
   "metadata": {},
   "source": [
    "#### Laboratory Activity\n",
    "\n",
    "For your laboratory activity repeat the model fitting with 3 qubits. This is a small change to the code. Your test circuit will now need to have three qubits. Start with the previous circuit that produced a Bell state and just add a X gate to the third qubit. Cut and paste the resulting histogram and submit it as your laboratory report. The report must be a PDF or PNG file."
   ]
  },
  {
   "cell_type": "markdown",
   "metadata": {},
   "source": [
    "1. Start with the previous circuit that produced a Bell state and just add a X gate to the third qubit."
   ]
  },
  {
   "cell_type": "code",
   "execution_count": 38,
   "metadata": {},
   "outputs": [
    {
     "name": "stdout",
     "output_type": "stream",
     "text": [
      "{'000': 399, '001': 90, '010': 86, '011': 408, '100': 3742, '101': 796, '110': 805, '111': 3674}\n"
     ]
    }
   ],
   "source": [
    "qc = QuantumCircuit(3,3)\n",
    "qc.h(0)\n",
    "qc.cx(0,1)\n",
    "qc.x(2)\n",
    "qc.measure(qc.qregs[0],qc.cregs[0])\n",
    "print(execute(qc, Aer.get_backend('qasm_simulator'),noise_model=noise_model,shots=10000).result().get_counts())"
   ]
  },
  {
   "cell_type": "markdown",
   "metadata": {},
   "source": [
    "2. Use the complete_meas_cal procedure to construct the circuits that we need to collect the data required for constructing the matrix."
   ]
  },
  {
   "cell_type": "code",
   "execution_count": 31,
   "metadata": {},
   "outputs": [
    {
     "name": "stdout",
     "output_type": "stream",
     "text": [
      "Circuit mcalcal_000\n",
      "        ░ ┌─┐      \n",
      "q42_0: ─░─┤M├──────\n",
      "        ░ └╥┘┌─┐   \n",
      "q42_1: ─░──╫─┤M├───\n",
      "        ░  ║ └╥┘┌─┐\n",
      "q42_2: ─░──╫──╫─┤M├\n",
      "        ░  ║  ║ └╥┘\n",
      " c2: 3/════╩══╩══╩═\n",
      "           0  1  2 \n",
      "\n",
      "Circuit mcalcal_001\n",
      "       ┌───┐ ░ ┌─┐      \n",
      "q42_0: ┤ X ├─░─┤M├──────\n",
      "       └───┘ ░ └╥┘┌─┐   \n",
      "q42_1: ──────░──╫─┤M├───\n",
      "             ░  ║ └╥┘┌─┐\n",
      "q42_2: ──────░──╫──╫─┤M├\n",
      "             ░  ║  ║ └╥┘\n",
      " c2: 3/═════════╩══╩══╩═\n",
      "                0  1  2 \n",
      "\n",
      "Circuit mcalcal_010\n",
      "             ░ ┌─┐      \n",
      "q42_0: ──────░─┤M├──────\n",
      "       ┌───┐ ░ └╥┘┌─┐   \n",
      "q42_1: ┤ X ├─░──╫─┤M├───\n",
      "       └───┘ ░  ║ └╥┘┌─┐\n",
      "q42_2: ──────░──╫──╫─┤M├\n",
      "             ░  ║  ║ └╥┘\n",
      " c2: 3/═════════╩══╩══╩═\n",
      "                0  1  2 \n",
      "\n",
      "Circuit mcalcal_011\n",
      "       ┌───┐ ░ ┌─┐      \n",
      "q42_0: ┤ X ├─░─┤M├──────\n",
      "       ├───┤ ░ └╥┘┌─┐   \n",
      "q42_1: ┤ X ├─░──╫─┤M├───\n",
      "       └───┘ ░  ║ └╥┘┌─┐\n",
      "q42_2: ──────░──╫──╫─┤M├\n",
      "             ░  ║  ║ └╥┘\n",
      " c2: 3/═════════╩══╩══╩═\n",
      "                0  1  2 \n",
      "\n",
      "Circuit mcalcal_100\n",
      "             ░ ┌─┐      \n",
      "q42_0: ──────░─┤M├──────\n",
      "             ░ └╥┘┌─┐   \n",
      "q42_1: ──────░──╫─┤M├───\n",
      "       ┌───┐ ░  ║ └╥┘┌─┐\n",
      "q42_2: ┤ X ├─░──╫──╫─┤M├\n",
      "       └───┘ ░  ║  ║ └╥┘\n",
      " c2: 3/═════════╩══╩══╩═\n",
      "                0  1  2 \n",
      "\n",
      "Circuit mcalcal_101\n",
      "       ┌───┐ ░ ┌─┐      \n",
      "q42_0: ┤ X ├─░─┤M├──────\n",
      "       └───┘ ░ └╥┘┌─┐   \n",
      "q42_1: ──────░──╫─┤M├───\n",
      "       ┌───┐ ░  ║ └╥┘┌─┐\n",
      "q42_2: ┤ X ├─░──╫──╫─┤M├\n",
      "       └───┘ ░  ║  ║ └╥┘\n",
      " c2: 3/═════════╩══╩══╩═\n",
      "                0  1  2 \n",
      "\n",
      "Circuit mcalcal_110\n",
      "             ░ ┌─┐      \n",
      "q42_0: ──────░─┤M├──────\n",
      "       ┌───┐ ░ └╥┘┌─┐   \n",
      "q42_1: ┤ X ├─░──╫─┤M├───\n",
      "       ├───┤ ░  ║ └╥┘┌─┐\n",
      "q42_2: ┤ X ├─░──╫──╫─┤M├\n",
      "       └───┘ ░  ║  ║ └╥┘\n",
      " c2: 3/═════════╩══╩══╩═\n",
      "                0  1  2 \n",
      "\n",
      "Circuit mcalcal_111\n",
      "       ┌───┐ ░ ┌─┐      \n",
      "q42_0: ┤ X ├─░─┤M├──────\n",
      "       ├───┤ ░ └╥┘┌─┐   \n",
      "q42_1: ┤ X ├─░──╫─┤M├───\n",
      "       ├───┤ ░  ║ └╥┘┌─┐\n",
      "q42_2: ┤ X ├─░──╫──╫─┤M├\n",
      "       └───┘ ░  ║  ║ └╥┘\n",
      " c2: 3/═════════╩══╩══╩═\n",
      "                0  1  2 \n",
      "\n"
     ]
    }
   ],
   "source": [
    "qr = QuantumRegister(3)\n",
    "meas_calibs, state_labels = complete_meas_cal(qr=qr, circlabel='mcal')\n",
    "\n",
    "for circuit in meas_calibs:\n",
    "    print('Circuit',circuit.name)\n",
    "    print(circuit)\n",
    "    print()"
   ]
  },
  {
   "cell_type": "markdown",
   "metadata": {},
   "source": [
    "3. Run these circuits and fit the model. The CompleteMeasFitter procedure does the fitting"
   ]
  },
  {
   "cell_type": "code",
   "execution_count": 32,
   "metadata": {},
   "outputs": [
    {
     "name": "stdout",
     "output_type": "stream",
     "text": [
      "[[0.751 0.08  0.098 0.016 0.078 0.012 0.014 0.003]\n",
      " [0.078 0.728 0.015 0.087 0.005 0.072 0.    0.005]\n",
      " [0.075 0.004 0.716 0.079 0.008 0.002 0.077 0.01 ]\n",
      " [0.004 0.08  0.086 0.724 0.002 0.016 0.009 0.086]\n",
      " [0.078 0.009 0.008 0.    0.724 0.081 0.09  0.005]\n",
      " [0.01  0.091 0.    0.01  0.088 0.725 0.007 0.082]\n",
      " [0.003 0.    0.063 0.003 0.079 0.011 0.726 0.083]\n",
      " [0.001 0.008 0.014 0.081 0.016 0.081 0.077 0.726]]\n"
     ]
    }
   ],
   "source": [
    "noise_model = get_noise(0.1)\n",
    "\n",
    "backend = Aer.get_backend('qasm_simulator')\n",
    "job = execute(meas_calibs, backend=backend, shots=1000, noise_model=noise_model)\n",
    "cal_results = job.result()\n",
    "\n",
    "meas_fitter = CompleteMeasFitter(cal_results, state_labels, circlabel='mcal')\n",
    "print(meas_fitter.cal_matrix)"
   ]
  },
  {
   "cell_type": "markdown",
   "metadata": {},
   "source": [
    "4. Repeat the first section"
   ]
  },
  {
   "cell_type": "code",
   "execution_count": 35,
   "metadata": {},
   "outputs": [
    {
     "name": "stdout",
     "output_type": "stream",
     "text": [
      "{'000': 391, '001': 79, '010': 95, '011': 446, '100': 3669, '101': 805, '110': 787, '111': 3728}\n"
     ]
    }
   ],
   "source": [
    "qc = QuantumCircuit(3,3)\n",
    "qc.h(0)\n",
    "qc.cx(0,1)\n",
    "qc.x(2)\n",
    "qc.measure(qc.qregs[0],qc.cregs[0])\n",
    "\n",
    "results = execute(qc, backend=backend, shots=10000, noise_model=noise_model).result()\n",
    "\n",
    "noisy_counts = results.get_counts()\n",
    "print(noisy_counts)"
   ]
  },
  {
   "cell_type": "markdown",
   "metadata": {},
   "source": [
    "5. Error Mitigation Model histogram"
   ]
  },
  {
   "cell_type": "code",
   "execution_count": 36,
   "metadata": {},
   "outputs": [
    {
     "data": {
      "image/png": "[encoded data removed]",
      "text/plain": [
       "<Figure size 504x360 with 1 Axes>"
      ]
     },
     "execution_count": 36,
     "metadata": {},
     "output_type": "execute_result"
    }
   ],
   "source": [
    "# Get the filter object\n",
    "meas_filter = meas_fitter.filter\n",
    "\n",
    "# Results with mitigation\n",
    "mitigated_results = meas_filter.apply(results)\n",
    "mitigated_counts = mitigated_results.get_counts(0)\n",
    "\n",
    "plot_histogram([noisy_counts, mitigated_counts], legend=['noisy', 'mitigated'])"
   ]
  }
 ],
 "metadata": {
  "kernelspec": {
   "display_name": "Python 3",
   "language": "python",
   "name": "python3"
  },
  "language_info": {
   "codemirror_mode": {
    "name": "ipython",
    "version": 3
   },
   "file_extension": ".py",
   "mimetype": "text/x-python",
   "name": "python",
   "nbconvert_exporter": "python",
   "pygments_lexer": "ipython3",
   "version": "3.8.3"
  }
 },
 "nbformat": 4,
 "nbformat_minor": 4
}
