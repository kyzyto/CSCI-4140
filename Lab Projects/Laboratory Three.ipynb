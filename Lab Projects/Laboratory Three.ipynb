{
 "cells": [
  {
   "cell_type": "code",
   "execution_count": 4,
   "metadata": {},
   "outputs": [],
   "source": [
    "from qiskit import QuantumCircuit, execute, Aer\n",
    "from qiskit.visualization import plot_histogram, plot_bloch_multivector\n",
    "from numpy.random import randint\n",
    "import numpy as np\n",
    "from math import sqrt, pi\n",
    "import qiskit\n",
    "qiskit.__qiskit_version__"
   ]
  },
  {
   "cell_type": "code",
   "execution_count": 6,
   "metadata": {},
   "outputs": [
    {
     "data": {
      "image/png": "[encoded data removed]",
      "text/plain": [
       "<Figure size 368.306x144.48 with 1 Axes>"
      ]
     },
     "execution_count": 6,
     "metadata": {},
     "output_type": "execute_result"
    }
   ],
   "source": [
    "qc = QuantumCircuit(1,1)\n",
    "qc.h(0)\n",
    "qc.barrier()\n",
    "qc.h(0)\n",
    "qc.measure(0,0)\n",
    "qc.draw('mpl')"
   ]
  },
  {
   "cell_type": "code",
   "execution_count": 7,
   "metadata": {},
   "outputs": [
    {
     "data": {
      "image/png": "[encoded data removed]",
      "text/plain": [
       "<Figure size 504x360 with 1 Axes>"
      ]
     },
     "execution_count": 7,
     "metadata": {},
     "output_type": "execute_result"
    }
   ],
   "source": [
    "svs = Aer.get_backend('qasm_simulator')\n",
    "job = execute(qc, svs)\n",
    "plot_histogram(job.result().get_counts())"
   ]
  },
  {
   "cell_type": "code",
   "execution_count": 8,
   "metadata": {},
   "outputs": [
    {
     "data": {
      "image/png": "[encoded data removed]",
      "text/plain": [
       "<Figure size 488.706x144.48 with 1 Axes>"
      ]
     },
     "execution_count": 8,
     "metadata": {},
     "output_type": "execute_result"
    }
   ],
   "source": [
    "qc = QuantumCircuit(1,1)\n",
    "qc.h(0)\n",
    "qc.barrier()\n",
    "\n",
    "qc.measure(0,0)\n",
    "qc.barrier()\n",
    "\n",
    "qc.h(0)\n",
    "qc.measure(0,0)\n",
    "qc.draw('mpl')"
   ]
  },
  {
   "cell_type": "code",
   "execution_count": 9,
   "metadata": {},
   "outputs": [
    {
     "data": {
      "image/png": "[encoded data removed]",
      "text/plain": [
       "<Figure size 504x360 with 1 Axes>"
      ]
     },
     "execution_count": 9,
     "metadata": {},
     "output_type": "execute_result"
    }
   ],
   "source": [
    "svs = Aer.get_backend('qasm_simulator')\n",
    "job = execute(qc, svs)\n",
    "plot_histogram(job.result().get_counts())"
   ]
  },
  {
   "cell_type": "code",
   "execution_count": 15,
   "metadata": {},
   "outputs": [],
   "source": [
    "def encode_message(bits, bases):\n",
    "    message = []\n",
    "    for i in range(n):\n",
    "        qc = QuantumCircuit(1,1)\n",
    "        if bases[i] == 0:\n",
    "            if bits[i] == 0:\n",
    "                pass\n",
    "            else:\n",
    "                qc.x(0)\n",
    "        else: \n",
    "            if bits[i] == 0:\n",
    "                qc.h(0)\n",
    "            else:\n",
    "                qc.x(0)\n",
    "                qc.h(0)\n",
    "        qc.barrier()\n",
    "        message.append(qc)\n",
    "    return message"
   ]
  },
  {
   "cell_type": "code",
   "execution_count": 16,
   "metadata": {},
   "outputs": [],
   "source": [
    "def measure_message(message, bases):\n",
    "    backend = Aer.get_backend('qasm_simulator')\n",
    "    measurements = []\n",
    "    for q in range(n):\n",
    "        if bases[q] == 0:\n",
    "            message[q].measure(0,0)\n",
    "        if bases[q] == 1:\n",
    "            message[q].h(0)\n",
    "            message[q].measure(0,0)\n",
    "        result = execute(message[q], backend, shots=1, memory=True).result()\n",
    "        measured_bit = int(result.get_memory()[0])\n",
    "        measurements.append(measured_bit)\n",
    "    return measurements"
   ]
  },
  {
   "cell_type": "code",
   "execution_count": 20,
   "metadata": {},
   "outputs": [],
   "source": [
    "def remove_garbage(a_bases, b_bases, bits):\n",
    "    good_bits = []\n",
    "    for q in range(n):\n",
    "        if a_bases[q] == b_bases[q]:\n",
    "            good_bits.append(bits[q])\n",
    "    return good_bits\n",
    "\n",
    "def sample_bits(bits, selection):\n",
    "    sample = []\n",
    "    for i in selection:\n",
    "        i = np.mod(i, len(bits))\n",
    "        sample.append(bits.pop(i))\n",
    "    return sample"
   ]
  },
  {
   "cell_type": "code",
   "execution_count": 27,
   "metadata": {},
   "outputs": [
    {
     "name": "stdout",
     "output_type": "stream",
     "text": [
      "bit = 0\n",
      "basis = 1\n"
     ]
    },
    {
     "data": {
      "text/html": [
       "<pre style=\"word-wrap: normal;white-space: pre;background: #fff0;line-height: 1.1;font-family: &quot;Courier New&quot;,Courier,monospace\">     ┌───┐ ░ ┌───┐┌─┐\n",
       "q_0: ┤ H ├─░─┤ H ├┤M├\n",
       "     └───┘ ░ └───┘└╥┘\n",
       "c: 1/══════════════╩═\n",
       "                   0 </pre>"
      ],
      "text/plain": [
       "     ┌───┐ ░ ┌───┐┌─┐\n",
       "q_0: ┤ H ├─░─┤ H ├┤M├\n",
       "     └───┘ ░ └───┘└╥┘\n",
       "c: 1/══════════════╩═\n",
       "                   0 "
      ]
     },
     "execution_count": 27,
     "metadata": {},
     "output_type": "execute_result"
    }
   ],
   "source": [
    "print('bit = %i' % alice_bits[0])\n",
    "print('basis = %i' % alice_bases[0])\n",
    "message[0].draw()"
   ]
  },
  {
   "cell_type": "code",
   "execution_count": 103,
   "metadata": {},
   "outputs": [
    {
     "name": "stdout",
     "output_type": "stream",
     "text": [
      "bit = 0\n",
      "basis = 0\n"
     ]
    },
    {
     "data": {
      "image/png": "[encoded data removed]",
      "text/plain": [
       "<Figure size 428.506x144.48 with 1 Axes>"
      ]
     },
     "execution_count": 103,
     "metadata": {},
     "output_type": "execute_result"
    }
   ],
   "source": [
    "print('bit = %i' % alice_bits[4])\n",
    "print('basis = %i' % alice_bases[4])\n",
    "message[4].draw('mpl')"
   ]
  },
  {
   "cell_type": "markdown",
   "metadata": {},
   "source": [
    "# Laboratory Three"
   ]
  },
  {
   "cell_type": "markdown",
   "metadata": {},
   "source": [
    "# Quantum Key Distribution"
   ]
  },
  {
   "cell_type": "markdown",
   "metadata": {},
   "source": [
    "## First, change the length of the bit sequence that is generated and observe the change in efficiency. The length is the variable n, set on the second line of code. Try values of 100, 200, 500 and 1000 and record the efficiency. How long of a sequence do you expect you will need to get close to 50% efficiency? Record your results in your laboratory report in the form of a table."
   ]
  },
  {
   "cell_type": "markdown",
   "metadata": {},
   "source": [
    "### For n = 100"
   ]
  },
  {
   "cell_type": "code",
   "execution_count": 53,
   "metadata": {},
   "outputs": [
    {
     "name": "stdout",
     "output_type": "stream",
     "text": [
      "alice_key = [0, 0, 1, 0, 0, 0, 1, 1, 0, 1, 0, 0, 0, 1, 0, 0, 0, 1, 0, 1, 0, 0, 1, 0, 0, 0, 0, 1, 1, 0, 0, 0, 0, 1, 0, 0, 1, 0, 1, 1, 1, 1, 0, 1, 0, 1, 1, 1, 0, 1, 0, 1]\n",
      "bob_key = [1, 1, 1, 1, 0, 0, 1, 1, 0, 0, 0, 0, 1, 1, 1, 1, 0, 0, 0, 0, 0, 0, 1, 0, 1, 0, 1, 1, 0, 0, 0, 0, 1, 0, 0, 0, 1, 1, 1, 1, 1, 1, 0, 0, 0, 0, 1, 0, 1, 1, 0, 0]\n",
      "  bob_sample = [1, 1, 1, 0, 0, 0, 0, 1, 0, 0, 0, 0, 1, 1, 1]\n",
      "alice_sample = [1, 1, 0, 0, 1, 0, 0, 0, 0, 0, 0, 1, 0, 0, 0]\n",
      "Eve's interference was detected.\n",
      "key is compromized\n",
      "Efficiency: 0.37\n",
      "key length = 37\n"
     ]
    },
    {
     "data": {
      "image/png": "[encoded data removed]",
      "text/plain": [
       "<Figure size 428.506x144.48 with 1 Axes>"
      ]
     },
     "execution_count": 53,
     "metadata": {},
     "output_type": "execute_result"
    }
   ],
   "source": [
    "np.random.seed(seed=3)\n",
    "n = 100\n",
    "\n",
    "alice_bits = randint(2, size=n)\n",
    "#print(\"alice_bits = \" + str(alice_bits))\n",
    "\n",
    "alice_bases = randint(2, size=n)\n",
    "#print(\"alice_bases = \" + str(alice_bases))\n",
    "message = encode_message(alice_bits, alice_bases)\n",
    "\n",
    "eve_bases = randint(2, size=n)\n",
    "intercepted_message = measure_message(message, eve_bases)\n",
    "#print(\"intercepted_message = \" + str(intercepted_message))\n",
    "\n",
    "bob_bases = randint(2, size=n)\n",
    "#print(\"bob_bases = \" + str(bob_bases))\n",
    "bob_results = measure_message(message, bob_bases)\n",
    "#print(\"bob_results = \" + str(bob_results))\n",
    "     \n",
    "alice_key = remove_garbage(alice_bases, bob_bases, alice_bits)\n",
    "#print(\"alice_key = \" + str(alice_key))\n",
    "bob_key = remove_garbage(alice_bases, bob_bases, bob_results)\n",
    "#print(\"bob_key = \" + str(bob_key))\n",
    "     \n",
    "alice_key = remove_garbage(alice_bases, bob_bases, alice_bits)\n",
    "print(\"alice_key = \" + str(alice_key))\n",
    "bob_key = remove_garbage(alice_bases, bob_bases, bob_results)\n",
    "print(\"bob_key = \" + str(bob_key))\n",
    "\n",
    "sample_size = 15\n",
    "\n",
    "bit_selection = randint(n, size=sample_size)\n",
    "bob_sample = sample_bits(bob_key, bit_selection)\n",
    "print(\"  bob_sample = \" + str(bob_sample))\n",
    "alice_sample = sample_bits(alice_key, bit_selection)\n",
    "print(\"alice_sample = \"+ str(alice_sample))\n",
    "\n",
    "if bob_sample != alice_sample:\n",
    "    print(\"Eve's interference was detected.\")\n",
    "else:\n",
    "    print(\"Eve went undetected!\")\n",
    "\n",
    "if bob_sample == alice_sample:\n",
    "    print(\"key is safe\")\n",
    "else:\n",
    "    print(\"key is compromized\")\n",
    "print(\"Efficiency: \"+str(len(bob_key)/n))\n",
    "\n",
    "print(\"key length = %i\" % len(alice_key))\n",
    "message[0].draw('mpl')"
   ]
  },
  {
   "cell_type": "markdown",
   "metadata": {},
   "source": [
    "### For n = 500"
   ]
  },
  {
   "cell_type": "code",
   "execution_count": 52,
   "metadata": {},
   "outputs": [
    {
     "name": "stdout",
     "output_type": "stream",
     "text": [
      "  bob_sample = [1, 1, 0, 1, 0, 1, 1, 1, 0, 1, 0, 1, 0, 1, 1]\n",
      "alice_sample = [1, 0, 0, 1, 0, 0, 1, 0, 1, 1, 0, 0, 0, 0, 0]\n",
      "Eve's interference was detected.\n",
      "key is compromized\n",
      "Efficiency: 0.46\n",
      "key length = 230\n"
     ]
    },
    {
     "data": {
      "image/png": "[encoded data removed]",
      "text/plain": [
       "<Figure size 368.306x144.48 with 1 Axes>"
      ]
     },
     "execution_count": 52,
     "metadata": {},
     "output_type": "execute_result"
    }
   ],
   "source": [
    "np.random.seed(seed=3)\n",
    "n = 500\n",
    "\n",
    "alice_bits = randint(2, size=n)\n",
    "#print(\"alice_bits = \" + str(alice_bits))\n",
    "\n",
    "alice_bases = randint(2, size=n)\n",
    "#print(\"alice_bases = \" + str(alice_bases))\n",
    "message = encode_message(alice_bits, alice_bases)\n",
    "\n",
    "eve_bases = randint(2, size=n)\n",
    "intercepted_message = measure_message(message, eve_bases)\n",
    "#print(\"intercepted_message = \" + str(intercepted_message))\n",
    "\n",
    "bob_bases = randint(2, size=n)\n",
    "#print(\"bob_bases = \" + str(bob_bases))\n",
    "bob_results = measure_message(message, bob_bases)\n",
    "#print(\"bob_results = \" + str(bob_results))\n",
    "     \n",
    "alice_key = remove_garbage(alice_bases, bob_bases, alice_bits)\n",
    "#print(\"alice_key = \" + str(alice_key))\n",
    "bob_key = remove_garbage(alice_bases, bob_bases, bob_results)\n",
    "#print(\"bob_key = \" + str(bob_key))\n",
    "\n",
    "sample_size = 15\n",
    "\n",
    "bit_selection = randint(n, size=sample_size)\n",
    "bob_sample = sample_bits(bob_key, bit_selection)\n",
    "print(\"  bob_sample = \" + str(bob_sample))\n",
    "alice_sample = sample_bits(alice_key, bit_selection)\n",
    "print(\"alice_sample = \"+ str(alice_sample))\n",
    "\n",
    "if bob_sample != alice_sample:\n",
    "    print(\"Eve's interference was detected.\")\n",
    "else:\n",
    "    print(\"Eve went undetected!\")\n",
    "\n",
    "if bob_sample == alice_sample:\n",
    "    print(\"key is safe\")\n",
    "else:\n",
    "    print(\"key is compromized\")\n",
    "print(\"Efficiency: \"+str(len(bob_key)/n))\n",
    "\n",
    "print(\"key length = %i\" % len(alice_key))\n",
    "message[0].draw('mpl')"
   ]
  },
  {
   "cell_type": "markdown",
   "metadata": {},
   "source": [
    "### For n = 1000"
   ]
  },
  {
   "cell_type": "code",
   "execution_count": 64,
   "metadata": {},
   "outputs": [
    {
     "name": "stdout",
     "output_type": "stream",
     "text": [
      "  bob_sample = [1, 0, 1, 0, 1, 0, 0, 1, 0, 1, 0, 1, 1, 1, 1]\n",
      "alice_sample = [1, 0, 1, 0, 1, 0, 0, 1, 1, 0, 0, 1, 0, 1, 1]\n",
      "Eve's interference was detected.\n",
      "key is compromized\n",
      "Efficiency: 0.485\n",
      "key length = 485\n"
     ]
    },
    {
     "data": {
      "image/png": "[encoded data removed]",
      "text/plain": [
       "<Figure size 488.706x144.48 with 1 Axes>"
      ]
     },
     "execution_count": 64,
     "metadata": {},
     "output_type": "execute_result"
    }
   ],
   "source": [
    "np.random.seed(seed=3)\n",
    "n = 1000\n",
    "\n",
    "alice_bits = randint(2, size=n)\n",
    "#print(\"alice_bits = \" + str(alice_bits))\n",
    "\n",
    "alice_bases = randint(2, size=n)\n",
    "#print(\"alice_bases = \" + str(alice_bases))\n",
    "message = encode_message(alice_bits, alice_bases)\n",
    "\n",
    "eve_bases = randint(2, size=n)\n",
    "intercepted_message = measure_message(message, eve_bases)\n",
    "#print(\"intercepted_message = \" + str(intercepted_message))\n",
    "\n",
    "bob_bases = randint(2, size=n)\n",
    "#print(\"bob_bases = \" + str(bob_bases))\n",
    "bob_results = measure_message(message, bob_bases)\n",
    "#print(\"bob_results = \" + str(bob_results))\n",
    "     \n",
    "alice_key = remove_garbage(alice_bases, bob_bases, alice_bits)\n",
    "#print(\"alice_key = \" + str(alice_key))\n",
    "bob_key = remove_garbage(alice_bases, bob_bases, bob_results)\n",
    "#print(\"bob_key = \" + str(bob_key))\n",
    "\n",
    "sample_size = 15\n",
    "\n",
    "bit_selection = randint(n, size=sample_size)\n",
    "bob_sample = sample_bits(bob_key, bit_selection)\n",
    "print(\"  bob_sample = \" + str(bob_sample))\n",
    "alice_sample = sample_bits(alice_key, bit_selection)\n",
    "print(\"alice_sample = \"+ str(alice_sample))\n",
    "\n",
    "if bob_sample != alice_sample:\n",
    "    print(\"Eve's interference was detected.\")\n",
    "else:\n",
    "    print(\"Eve went undetected!\")\n",
    "\n",
    "if bob_sample == alice_sample:\n",
    "    print(\"key is safe\")\n",
    "else:\n",
    "    print(\"key is compromized\")\n",
    "print(\"Efficiency: \"+str(len(bob_key)/n))\n",
    "\n",
    "print(\"key length = %i\" % len(alice_key))\n",
    "message[0].draw('mpl')"
   ]
  },
  {
   "cell_type": "markdown",
   "metadata": {},
   "source": [
    "### For n = 1200"
   ]
  },
  {
   "cell_type": "code",
   "execution_count": 66,
   "metadata": {},
   "outputs": [
    {
     "name": "stdout",
     "output_type": "stream",
     "text": [
      "  bob_sample = [0, 1, 0, 0, 1, 0, 1, 0, 0, 0, 1, 0, 0, 1, 0]\n",
      "alice_sample = [1, 1, 0, 1, 0, 0, 0, 0, 0, 1, 1, 0, 1, 0, 0]\n",
      "Eve's interference was detected.\n",
      "key is compromized\n",
      "Efficiency: 0.4928571428571429\n",
      "key length = 690\n"
     ]
    },
    {
     "data": {
      "image/png": "[encoded data removed]",
      "text/plain": [
       "<Figure size 368.306x144.48 with 1 Axes>"
      ]
     },
     "execution_count": 66,
     "metadata": {},
     "output_type": "execute_result"
    }
   ],
   "source": [
    "np.random.seed(seed=3)\n",
    "n = 1400\n",
    "\n",
    "alice_bits = randint(2, size=n)\n",
    "#print(\"alice_bits = \" + str(alice_bits))\n",
    "\n",
    "alice_bases = randint(2, size=n)\n",
    "#print(\"alice_bases = \" + str(alice_bases))\n",
    "message = encode_message(alice_bits, alice_bases)\n",
    "\n",
    "eve_bases = randint(2, size=n)\n",
    "intercepted_message = measure_message(message, eve_bases)\n",
    "#print(\"intercepted_message = \" + str(intercepted_message))\n",
    "\n",
    "bob_bases = randint(2, size=n)\n",
    "#print(\"bob_bases = \" + str(bob_bases))\n",
    "bob_results = measure_message(message, bob_bases)\n",
    "#print(\"bob_results = \" + str(bob_results))\n",
    "     \n",
    "alice_key = remove_garbage(alice_bases, bob_bases, alice_bits)\n",
    "#print(\"alice_key = \" + str(alice_key))\n",
    "bob_key = remove_garbage(alice_bases, bob_bases, bob_results)\n",
    "#print(\"bob_key = \" + str(bob_key))\n",
    "\n",
    "sample_size = 15\n",
    "\n",
    "bit_selection = randint(n, size=sample_size)\n",
    "bob_sample = sample_bits(bob_key, bit_selection)\n",
    "print(\"  bob_sample = \" + str(bob_sample))\n",
    "alice_sample = sample_bits(alice_key, bit_selection)\n",
    "print(\"alice_sample = \"+ str(alice_sample))\n",
    "\n",
    "if bob_sample != alice_sample:\n",
    "    print(\"Eve's interference was detected.\")\n",
    "else:\n",
    "    print(\"Eve went undetected!\")\n",
    "\n",
    "if bob_sample == alice_sample:\n",
    "    print(\"key is safe\")\n",
    "else:\n",
    "    print(\"key is compromized\")\n",
    "print(\"Efficiency: \"+str(len(bob_key)/n))\n",
    "\n",
    "print(\"key length = %i\" % len(alice_key))\n",
    "message[0].draw('mpl')"
   ]
  },
  {
   "cell_type": "markdown",
   "metadata": {},
   "source": [
    "## Second, in the video lecture we observed that when the message was intercepted there was only a small number of bits that were different in the sample. Change the seed of the random number on the first line of code and observe how the number of different bits in the sample changes. Try five different seed values and record the number of different bits. Record your results in your laboratory report in the form of a table."
   ]
  },
  {
   "cell_type": "markdown",
   "metadata": {},
   "source": [
    "### For seed = 0"
   ]
  },
  {
   "cell_type": "code",
   "execution_count": 69,
   "metadata": {},
   "outputs": [
    {
     "name": "stdout",
     "output_type": "stream",
     "text": [
      "  bob_sample = [1, 0, 0, 0, 1, 1, 1, 1, 0, 0, 0, 1, 0, 1, 1]\n",
      "alice_sample = [0, 0, 0, 1, 0, 1, 0, 1, 1, 1, 0, 1, 0, 0, 1]\n"
     ]
    }
   ],
   "source": [
    "np.random.seed(seed=0)\n",
    "n = 100\n",
    "\n",
    "alice_bits = randint(2, size=n)\n",
    "#print(\"alice_bits = \" + str(alice_bits))\n",
    "\n",
    "alice_bases = randint(2, size=n)\n",
    "#print(\"alice_bases = \" + str(alice_bases))\n",
    "message = encode_message(alice_bits, alice_bases)\n",
    "\n",
    "eve_bases = randint(2, size=n)\n",
    "intercepted_message = measure_message(message, eve_bases)\n",
    "#print(\"intercepted_message = \" + str(intercepted_message))\n",
    "\n",
    "bob_bases = randint(2, size=n)\n",
    "#print(\"bob_bases = \" + str(bob_bases))\n",
    "bob_results = measure_message(message, bob_bases)\n",
    "#print(\"bob_results = \" + str(bob_results))\n",
    "     \n",
    "alice_key = remove_garbage(alice_bases, bob_bases, alice_bits)\n",
    "#print(\"alice_key = \" + str(alice_key))\n",
    "bob_key = remove_garbage(alice_bases, bob_bases, bob_results)\n",
    "#print(\"bob_key = \" + str(bob_key))\n",
    "\n",
    "sample_size = 15\n",
    "\n",
    "bit_selection = randint(n, size=sample_size)\n",
    "bob_sample = sample_bits(bob_key, bit_selection)\n",
    "print(\"  bob_sample = \" + str(bob_sample))\n",
    "alice_sample = sample_bits(alice_key, bit_selection)\n",
    "print(\"alice_sample = \"+ str(alice_sample))"
   ]
  },
  {
   "cell_type": "markdown",
   "metadata": {},
   "source": [
    "### For seed = 1"
   ]
  },
  {
   "cell_type": "code",
   "execution_count": 70,
   "metadata": {},
   "outputs": [
    {
     "name": "stdout",
     "output_type": "stream",
     "text": [
      "  bob_sample = [1, 0, 0, 1, 0, 1, 0, 0, 0, 1, 1, 0, 0, 0, 1]\n",
      "alice_sample = [0, 0, 1, 0, 0, 1, 0, 1, 1, 1, 1, 0, 0, 0, 0]\n"
     ]
    }
   ],
   "source": [
    "np.random.seed(seed=1)\n",
    "n = 100\n",
    "\n",
    "alice_bits = randint(2, size=n)\n",
    "#print(\"alice_bits = \" + str(alice_bits))\n",
    "\n",
    "alice_bases = randint(2, size=n)\n",
    "#print(\"alice_bases = \" + str(alice_bases))\n",
    "message = encode_message(alice_bits, alice_bases)\n",
    "\n",
    "eve_bases = randint(2, size=n)\n",
    "intercepted_message = measure_message(message, eve_bases)\n",
    "#print(\"intercepted_message = \" + str(intercepted_message))\n",
    "\n",
    "bob_bases = randint(2, size=n)\n",
    "#print(\"bob_bases = \" + str(bob_bases))\n",
    "bob_results = measure_message(message, bob_bases)\n",
    "#print(\"bob_results = \" + str(bob_results))\n",
    "     \n",
    "alice_key = remove_garbage(alice_bases, bob_bases, alice_bits)\n",
    "#print(\"alice_key = \" + str(alice_key))\n",
    "bob_key = remove_garbage(alice_bases, bob_bases, bob_results)\n",
    "#print(\"bob_key = \" + str(bob_key))\n",
    "\n",
    "sample_size = 15\n",
    "\n",
    "bit_selection = randint(n, size=sample_size)\n",
    "bob_sample = sample_bits(bob_key, bit_selection)\n",
    "print(\"  bob_sample = \" + str(bob_sample))\n",
    "alice_sample = sample_bits(alice_key, bit_selection)\n",
    "print(\"alice_sample = \"+ str(alice_sample))"
   ]
  },
  {
   "cell_type": "markdown",
   "metadata": {},
   "source": [
    "### For seed = 2"
   ]
  },
  {
   "cell_type": "code",
   "execution_count": 71,
   "metadata": {},
   "outputs": [
    {
     "name": "stdout",
     "output_type": "stream",
     "text": [
      "  bob_sample = [1, 1, 0, 0, 1, 1, 0, 0, 0, 0, 0, 1, 1, 1, 0]\n",
      "alice_sample = [0, 0, 0, 0, 1, 1, 1, 0, 1, 0, 1, 1, 0, 0, 0]\n"
     ]
    }
   ],
   "source": [
    "np.random.seed(seed=2)\n",
    "n = 100\n",
    "\n",
    "alice_bits = randint(2, size=n)\n",
    "#print(\"alice_bits = \" + str(alice_bits))\n",
    "\n",
    "alice_bases = randint(2, size=n)\n",
    "#print(\"alice_bases = \" + str(alice_bases))\n",
    "message = encode_message(alice_bits, alice_bases)\n",
    "\n",
    "eve_bases = randint(2, size=n)\n",
    "intercepted_message = measure_message(message, eve_bases)\n",
    "#print(\"intercepted_message = \" + str(intercepted_message))\n",
    "\n",
    "bob_bases = randint(2, size=n)\n",
    "#print(\"bob_bases = \" + str(bob_bases))\n",
    "bob_results = measure_message(message, bob_bases)\n",
    "#print(\"bob_results = \" + str(bob_results))\n",
    "     \n",
    "alice_key = remove_garbage(alice_bases, bob_bases, alice_bits)\n",
    "#print(\"alice_key = \" + str(alice_key))\n",
    "bob_key = remove_garbage(alice_bases, bob_bases, bob_results)\n",
    "#print(\"bob_key = \" + str(bob_key))\n",
    "\n",
    "sample_size = 15\n",
    "\n",
    "bit_selection = randint(n, size=sample_size)\n",
    "bob_sample = sample_bits(bob_key, bit_selection)\n",
    "print(\"  bob_sample = \" + str(bob_sample))\n",
    "alice_sample = sample_bits(alice_key, bit_selection)\n",
    "print(\"alice_sample = \"+ str(alice_sample))"
   ]
  },
  {
   "cell_type": "markdown",
   "metadata": {},
   "source": [
    "### For seed = 4"
   ]
  },
  {
   "cell_type": "code",
   "execution_count": 72,
   "metadata": {},
   "outputs": [
    {
     "name": "stdout",
     "output_type": "stream",
     "text": [
      "  bob_sample = [0, 0, 1, 1, 0, 1, 1, 1, 1, 1, 0, 1, 1, 0, 0]\n",
      "alice_sample = [0, 1, 1, 1, 0, 0, 0, 1, 1, 1, 0, 1, 1, 1, 1]\n"
     ]
    }
   ],
   "source": [
    "np.random.seed(seed=4)\n",
    "n = 100\n",
    "\n",
    "alice_bits = randint(2, size=n)\n",
    "#print(\"alice_bits = \" + str(alice_bits))\n",
    "\n",
    "alice_bases = randint(2, size=n)\n",
    "#print(\"alice_bases = \" + str(alice_bases))\n",
    "message = encode_message(alice_bits, alice_bases)\n",
    "\n",
    "eve_bases = randint(2, size=n)\n",
    "intercepted_message = measure_message(message, eve_bases)\n",
    "#print(\"intercepted_message = \" + str(intercepted_message))\n",
    "\n",
    "bob_bases = randint(2, size=n)\n",
    "#print(\"bob_bases = \" + str(bob_bases))\n",
    "bob_results = measure_message(message, bob_bases)\n",
    "#print(\"bob_results = \" + str(bob_results))\n",
    "     \n",
    "alice_key = remove_garbage(alice_bases, bob_bases, alice_bits)\n",
    "#print(\"alice_key = \" + str(alice_key))\n",
    "bob_key = remove_garbage(alice_bases, bob_bases, bob_results)\n",
    "#print(\"bob_key = \" + str(bob_key))\n",
    "\n",
    "sample_size = 15\n",
    "\n",
    "bit_selection = randint(n, size=sample_size)\n",
    "bob_sample = sample_bits(bob_key, bit_selection)\n",
    "print(\"  bob_sample = \" + str(bob_sample))\n",
    "alice_sample = sample_bits(alice_key, bit_selection)\n",
    "print(\"alice_sample = \"+ str(alice_sample))"
   ]
  },
  {
   "cell_type": "markdown",
   "metadata": {},
   "source": [
    "### For seed = 5"
   ]
  },
  {
   "cell_type": "code",
   "execution_count": 73,
   "metadata": {},
   "outputs": [
    {
     "name": "stdout",
     "output_type": "stream",
     "text": [
      "  bob_sample = [0, 0, 1, 0, 1, 0, 1, 0, 0, 0, 1, 1, 1, 0, 1]\n",
      "alice_sample = [0, 0, 0, 1, 1, 0, 0, 0, 1, 1, 0, 1, 1, 1, 0]\n"
     ]
    }
   ],
   "source": [
    "np.random.seed(seed=5)\n",
    "n = 100\n",
    "\n",
    "alice_bits = randint(2, size=n)\n",
    "#print(\"alice_bits = \" + str(alice_bits))\n",
    "\n",
    "alice_bases = randint(2, size=n)\n",
    "#print(\"alice_bases = \" + str(alice_bases))\n",
    "message = encode_message(alice_bits, alice_bases)\n",
    "\n",
    "eve_bases = randint(2, size=n)\n",
    "intercepted_message = measure_message(message, eve_bases)\n",
    "#print(\"intercepted_message = \" + str(intercepted_message))\n",
    "\n",
    "bob_bases = randint(2, size=n)\n",
    "#print(\"bob_bases = \" + str(bob_bases))\n",
    "bob_results = measure_message(message, bob_bases)\n",
    "#print(\"bob_results = \" + str(bob_results))\n",
    "     \n",
    "alice_key = remove_garbage(alice_bases, bob_bases, alice_bits)\n",
    "#print(\"alice_key = \" + str(alice_key))\n",
    "bob_key = remove_garbage(alice_bases, bob_bases, bob_results)\n",
    "#print(\"bob_key = \" + str(bob_key))\n",
    "\n",
    "sample_size = 15\n",
    "\n",
    "bit_selection = randint(n, size=sample_size)\n",
    "bob_sample = sample_bits(bob_key, bit_selection)\n",
    "print(\"  bob_sample = \" + str(bob_sample))\n",
    "alice_sample = sample_bits(alice_key, bit_selection)\n",
    "print(\"alice_sample = \"+ str(alice_sample))"
   ]
  },
  {
   "cell_type": "markdown",
   "metadata": {},
   "source": [
    "# Balanced Functions"
   ]
  },
  {
   "cell_type": "code",
   "execution_count": 96,
   "metadata": {},
   "outputs": [
    {
     "data": {
      "application/vnd.jupyter.widget-view+json": {
       "model_id": "09b05918758b4d1cae3c792d915f324d",
       "version_major": 2,
       "version_minor": 0
      },
      "text/plain": [
       "HBox(children=(Button(description='H⊗ⁿ', style=ButtonStyle()), Button(description='Oracle', style=ButtonStyle(…"
      ]
     },
     "metadata": {},
     "output_type": "display_data"
    },
    {
     "data": {
      "application/vnd.jupyter.widget-view+json": {
       "model_id": "0f1f499f157c4efb8797d1245e6b0d85",
       "version_major": 2,
       "version_minor": 0
      },
      "text/plain": [
       "HTMLMath(value='$$ |00\\\\rangle = |00\\\\rangle $$')"
      ]
     },
     "metadata": {},
     "output_type": "display_data"
    },
    {
     "data": {
      "application/vnd.jupyter.widget-view+json": {
       "model_id": "03aa7f8e924a42f7b4530936c20e842c",
       "version_major": 2,
       "version_minor": 0
      },
      "text/plain": [
       "Image(value=b'\\x89PNG\\r\\n\\x1a\\n\\x00\\x00\\x00\\rIHDR\\x00\\x00\\x01\\x05\\x00\\x00\\x00\\xcc\\x08\\x06\\x00\\x00\\x00z\\x06\\xb6…"
      ]
     },
     "metadata": {},
     "output_type": "display_data"
    },
    {
     "data": {
      "image/png": "[encoded data removed]",
      "text/plain": [
       "<Figure size 140.777x264.88 with 1 Axes>"
      ]
     },
     "execution_count": 96,
     "metadata": {},
     "output_type": "execute_result"
    }
   ],
   "source": [
    "import numpy as np\n",
    "\n",
    "# importing Qiskit\n",
    "from qiskit import IBMQ, BasicAer\n",
    "from qiskit.providers.ibmq import least_busy\n",
    "from qiskit import QuantumCircuit, execute\n",
    "\n",
    "# import basic plot tools\n",
    "from qiskit.visualization import plot_histogram\n",
    "from qiskit_textbook.widgets import dj_widget\n",
    "\n",
    "dj_widget(size=\"small\", case=\"balanced\")\n",
    "\n",
    "n = 3\n",
    "\n",
    "const_oracle = QuantumCircuit(n+1)\n",
    "\n",
    "output = np.random.randint(2)\n",
    "if output == 1:\n",
    "    const_oracle.x(n)\n",
    "const_oracle.draw('mpl')"
   ]
  },
  {
   "cell_type": "code",
   "execution_count": 97,
   "metadata": {},
   "outputs": [
    {
     "data": {
      "image/png": "[encoded data removed]",
      "text/plain": [
       "<Figure size 501.977x264.88 with 1 Axes>"
      ]
     },
     "execution_count": 97,
     "metadata": {},
     "output_type": "execute_result"
    }
   ],
   "source": [
    "#PART NEEDED\n",
    "balanced_oracle = QuantumCircuit(n+1)\n",
    "b_str = \"101\"\n",
    "\n",
    "for qubit in range(len(b_str)):\n",
    "    if b_str[qubit] == '1':\n",
    "        balanced_oracle.x(qubit)\n",
    "balanced_oracle.barrier()\n",
    "\n",
    "\n",
    "\n",
    "\n",
    "for qubit in range(n):\n",
    "    balanced_oracle.cx(qubit, n)\n",
    "\n",
    "balanced_oracle.barrier()\n",
    "balanced_oracle.draw('mpl')"
   ]
  },
  {
   "cell_type": "code",
   "execution_count": 105,
   "metadata": {},
   "outputs": [
    {
     "data": {
      "image/png": "[encoded data removed]",
      "text/plain": [
       "<Figure size 622.377x325.08 with 1 Axes>"
      ]
     },
     "execution_count": 105,
     "metadata": {},
     "output_type": "execute_result"
    }
   ],
   "source": [
    "for qubit in range(len(b_str)):\n",
    "    if b_str[qubit] == '1':\n",
    "        balanced_oracle.x(qubit)\n",
    "        \n",
    "balanced_oracle.draw('mpl')\n",
    "\n",
    "dj_circuit = QuantumCircuit(n+1, n)\n",
    "\n",
    "# Apply H-gates\n",
    "for qubit in range(n):\n",
    "    dj_circuit.h(qubit)\n",
    "\n",
    "# Put qubit in state |->\n",
    "dj_circuit.x(n)\n",
    "dj_circuit.h(n)\n",
    "\n",
    "# Add oracle\n",
    "dj_circuit += balanced_oracle\n",
    "dj_circuit.draw('mpl')"
   ]
  },
  {
   "cell_type": "code",
   "execution_count": 98,
   "metadata": {},
   "outputs": [
    {
     "data": {
      "image/png": "[encoded data removed]",
      "text/plain": [
       "<Figure size 863.177x325.08 with 1 Axes>"
      ]
     },
     "execution_count": 98,
     "metadata": {},
     "output_type": "execute_result"
    }
   ],
   "source": [
    "#PART NEEDED\n",
    "dj_circuit = QuantumCircuit(n+1, n)\n",
    "\n",
    "# Apply H-gates\n",
    "for qubit in range(n):\n",
    "    dj_circuit.h(qubit)\n",
    "\n",
    "# Put qubit in state |->\n",
    "dj_circuit.x(n)\n",
    "dj_circuit.h(n)\n",
    "\n",
    "# Add oracle\n",
    "dj_circuit += balanced_oracle\n",
    "\n",
    "# Repeat H-gates\n",
    "for qubit in range(n):\n",
    "    dj_circuit.h(qubit)\n",
    "dj_circuit.barrier()\n",
    "\n",
    "# Measure\n",
    "for i in range(n):\n",
    "    dj_circuit.measure(i, i)\n",
    "\n",
    "# Display circuit\n",
    "dj_circuit.draw('mpl')"
   ]
  },
  {
   "cell_type": "code",
   "execution_count": 81,
   "metadata": {},
   "outputs": [
    {
     "data": {
      "image/png": "[encoded data removed]",
      "text/plain": [
       "<Figure size 504x360 with 1 Axes>"
      ]
     },
     "execution_count": 81,
     "metadata": {},
     "output_type": "execute_result"
    }
   ],
   "source": [
    "backend = BasicAer.get_backend('qasm_simulator')\n",
    "shots = 1\n",
    "results = execute(dj_circuit, backend=backend, shots=shots, memory=True).result()\n",
    "answer = results.get_counts()\n",
    "\n",
    "plot_histogram(answer)"
   ]
  },
  {
   "cell_type": "markdown",
   "metadata": {},
   "source": [
    "### Deutsch-Josza ORACLE"
   ]
  },
  {
   "cell_type": "code",
   "execution_count": 82,
   "metadata": {},
   "outputs": [],
   "source": [
    "def dj_oracle(case, n):\n",
    "\n",
    "    oracle_qc = QuantumCircuit(n+1)\n",
    "    \n",
    "\n",
    "    if case == \"balanced\":\n",
    "\n",
    "        b = np.random.randint(1,2**n)\n",
    "\n",
    "        b_str = format(b, '0'+str(n)+'b')\n",
    "\n",
    "        for qubit in range(len(b_str)):\n",
    "            if b_str[qubit] == '1':\n",
    "                oracle_qc.x(qubit)\n",
    "\n",
    "        for qubit in range(n):\n",
    "            oracle_qc.cx(qubit, n)\n",
    "\n",
    "        for qubit in range(len(b_str)):\n",
    "            if b_str[qubit] == '1':\n",
    "                oracle_qc.x(qubit)\n",
    "\n",
    "    if case == \"constant\":\n",
    "\n",
    "        output = np.random.randint(2)\n",
    "        if output == 1:\n",
    "            oracle_qc.x(n)\n",
    "    \n",
    "    oracle_gate = oracle_qc.to_gate()\n",
    "    oracle_gate.name = \"Oracle\" \n",
    "    return oracle_gate"
   ]
  },
  {
   "cell_type": "markdown",
   "metadata": {},
   "source": [
    "### Deutsch-Josza ALGORITHM"
   ]
  },
  {
   "cell_type": "code",
   "execution_count": 83,
   "metadata": {},
   "outputs": [],
   "source": [
    "def dj_algorithm(oracle, n):\n",
    "    dj_circuit = QuantumCircuit(n+1, n)\n",
    "    dj_circuit.x(n)\n",
    "    dj_circuit.h(n)\n",
    "\n",
    "    for qubit in range(n):\n",
    "        dj_circuit.h(qubit)\n",
    "\n",
    "    dj_circuit.append(oracle, range(n+1))\n",
    "\n",
    "    for qubit in range(n):\n",
    "        dj_circuit.h(qubit)\n",
    "    \n",
    "    for i in range(n):\n",
    "        dj_circuit.measure(i, i)\n",
    "    \n",
    "    return dj_circuit"
   ]
  },
  {
   "cell_type": "code",
   "execution_count": 99,
   "metadata": {},
   "outputs": [
    {
     "data": {
      "image/png": "[encoded data removed]",
      "text/plain": [
       "<Figure size 622.377x325.08 with 1 Axes>"
      ]
     },
     "execution_count": 99,
     "metadata": {},
     "output_type": "execute_result"
    }
   ],
   "source": [
    "n = 3\n",
    "oracle_gate = dj_oracle('balanced', n)\n",
    "dj_circuit = dj_algorithm(oracle_gate, n)\n",
    "dj_circuit.draw('mpl')"
   ]
  },
  {
   "cell_type": "code",
   "execution_count": 100,
   "metadata": {},
   "outputs": [
    {
     "data": {
      "image/png": "[encoded data removed]",
      "text/plain": [
       "<Figure size 504x360 with 1 Axes>"
      ]
     },
     "execution_count": 100,
     "metadata": {},
     "output_type": "execute_result"
    }
   ],
   "source": [
    "backend = BasicAer.get_backend('qasm_simulator')\n",
    "results = execute(dj_circuit, backend=backend, shots=1, memory=True).result()\n",
    "answer = results.get_counts()\n",
    "plot_histogram(answer)"
   ]
  },
  {
   "cell_type": "code",
   "execution_count": null,
   "metadata": {},
   "outputs": [],
   "source": []
  }
 ],
 "metadata": {
  "kernelspec": {
   "display_name": "Python 3",
   "language": "python",
   "name": "python3"
  },
  "language_info": {
   "codemirror_mode": {
    "name": "ipython",
    "version": 3
   },
   "file_extension": ".py",
   "mimetype": "text/x-python",
   "name": "python",
   "nbconvert_exporter": "python",
   "pygments_lexer": "ipython3",
   "version": "3.8.3"
  }
 },
 "nbformat": 4,
 "nbformat_minor": 4
}
